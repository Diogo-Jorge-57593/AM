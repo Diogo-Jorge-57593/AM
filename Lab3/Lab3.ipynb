{
 "cells": [
  {
   "cell_type": "markdown",
   "id": "02972eec",
   "metadata": {},
   "source": [
    "## Reading a data set and displaying its values"
   ]
  },
  {
   "cell_type": "markdown",
   "id": "10c25e65",
   "metadata": {},
   "source": [
    "In this notebook we will learn how to:\n",
    "\n",
    "a) read to a numpy array data frame a dataset in a local drive file. The dataset is expressed in comma separated value (csv) format.\n",
    "\n",
    "b) display the values in the data set\n",
    "\n",
    "c) plot a chart representing the data set\n",
    "\n",
    "---"
   ]
  },
  {
   "cell_type": "markdown",
   "id": "fdda23db",
   "metadata": {},
   "source": [
    "First we need to import the required libraries"
   ]
  },
  {
   "cell_type": "code",
   "execution_count": 1,
   "id": "38082d75",
   "metadata": {},
   "outputs": [],
   "source": [
    "import numpy as np\n",
    "import matplotlib.pyplot as plt\n",
    "import scipy"
   ]
  },
  {
   "cell_type": "markdown",
   "id": "e2b3152f",
   "metadata": {},
   "source": [
    "Now to load the data set in the companion **demodataset.csv** file use"
   ]
  },
  {
   "cell_type": "code",
   "execution_count": 2,
   "id": "9e1e4751",
   "metadata": {},
   "outputs": [],
   "source": [
    "data = np.loadtxt(\"demodataset.csv\", delimiter=\",\")"
   ]
  },
  {
   "cell_type": "markdown",
   "id": "c11ae1e1",
   "metadata": {},
   "source": [
    "We can use Python **print()** function to display the data set values"
   ]
  },
  {
   "cell_type": "code",
   "execution_count": 3,
   "id": "dee37fda",
   "metadata": {
    "scrolled": true
   },
   "outputs": [
    {
     "name": "stdout",
     "output_type": "stream",
     "text": [
      "m = 97\n",
      "\n",
      "[[ 6.1101  17.592  ]\n",
      " [ 5.5277   9.1302 ]\n",
      " [ 8.5186  13.662  ]\n",
      " [ 7.0032  11.854  ]\n",
      " [ 5.8598   6.8233 ]\n",
      " [ 8.3829  11.886  ]\n",
      " [ 7.4764   4.3483 ]\n",
      " [ 8.5781  12.     ]\n",
      " [ 6.4862   6.5987 ]\n",
      " [ 5.0546   3.8166 ]\n",
      " [ 5.7107   3.2522 ]\n",
      " [14.164   15.505  ]\n",
      " [ 5.734    3.1551 ]\n",
      " [ 8.4084   7.2258 ]\n",
      " [ 5.6407   0.71618]\n",
      " [ 5.3794   3.5129 ]\n",
      " [ 6.3654   5.3048 ]\n",
      " [ 5.1301   0.56077]\n",
      " [ 6.4296   3.6518 ]\n",
      " [ 7.0708   5.3893 ]\n",
      " [ 6.1891   3.1386 ]\n",
      " [20.27    21.767  ]\n",
      " [ 5.4901   4.263  ]\n",
      " [ 6.3261   5.1875 ]\n",
      " [ 5.5649   3.0825 ]\n",
      " [18.945   22.638  ]\n",
      " [12.828   13.501  ]\n",
      " [10.957    7.0467 ]\n",
      " [13.176   14.692  ]\n",
      " [22.203   24.147  ]\n",
      " [ 5.2524  -1.22   ]\n",
      " [ 6.5894   5.9966 ]\n",
      " [ 9.2482  12.134  ]\n",
      " [ 5.8918   1.8495 ]\n",
      " [ 8.2111   6.5426 ]\n",
      " [ 7.9334   4.5623 ]\n",
      " [ 8.0959   4.1164 ]\n",
      " [ 5.6063   3.3928 ]\n",
      " [12.836   10.117  ]\n",
      " [ 6.3534   5.4974 ]\n",
      " [ 5.4069   0.55657]\n",
      " [ 6.8825   3.9115 ]\n",
      " [11.708    5.3854 ]\n",
      " [ 5.7737   2.4406 ]\n",
      " [ 7.8247   6.7318 ]\n",
      " [ 7.0931   1.0463 ]\n",
      " [ 5.0702   5.1337 ]\n",
      " [ 5.8014   1.844  ]\n",
      " [11.7      8.0043 ]\n",
      " [ 5.5416   1.0179 ]\n",
      " [ 7.5402   6.7504 ]\n",
      " [ 5.3077   1.8396 ]\n",
      " [ 7.4239   4.2885 ]\n",
      " [ 7.6031   4.9981 ]\n",
      " [ 6.3328   1.4233 ]\n",
      " [ 6.3589  -1.4211 ]\n",
      " [ 6.2742   2.4756 ]\n",
      " [ 5.6397   4.6042 ]\n",
      " [ 9.3102   3.9624 ]\n",
      " [ 9.4536   5.4141 ]\n",
      " [ 8.8254   5.1694 ]\n",
      " [ 5.1793  -0.74279]\n",
      " [21.279   17.929  ]\n",
      " [14.908   12.054  ]\n",
      " [18.959   17.054  ]\n",
      " [ 7.2182   4.8852 ]\n",
      " [ 8.2951   5.7442 ]\n",
      " [10.236    7.7754 ]\n",
      " [ 5.4994   1.0173 ]\n",
      " [20.341   20.992  ]\n",
      " [10.136    6.6799 ]\n",
      " [ 7.3345   4.0259 ]\n",
      " [ 6.0062   1.2784 ]\n",
      " [ 7.2259   3.3411 ]\n",
      " [ 5.0269  -2.6807 ]\n",
      " [ 6.5479   0.29678]\n",
      " [ 7.5386   3.8845 ]\n",
      " [ 5.0365   5.7014 ]\n",
      " [10.274    6.7526 ]\n",
      " [ 5.1077   2.0576 ]\n",
      " [ 5.7292   0.47953]\n",
      " [ 5.1884   0.20421]\n",
      " [ 6.3557   0.67861]\n",
      " [ 9.7687   7.5435 ]\n",
      " [ 6.5159   5.3436 ]\n",
      " [ 8.5172   4.2415 ]\n",
      " [ 9.1802   6.7981 ]\n",
      " [ 6.002    0.92695]\n",
      " [ 5.5204   0.152  ]\n",
      " [ 5.0594   2.8214 ]\n",
      " [ 5.7077   1.8451 ]\n",
      " [ 7.6366   4.2959 ]\n",
      " [ 5.8707   7.2029 ]\n",
      " [ 5.3054   1.9869 ]\n",
      " [ 8.2934   0.14454]\n",
      " [13.394    9.0551 ]\n",
      " [ 5.4369   0.61705]]\n"
     ]
    }
   ],
   "source": [
    "print('m = {0:d}\\n'.format(len(data)))\n",
    "print(data)"
   ]
  },
  {
   "cell_type": "markdown",
   "id": "01ef2064-e580-44bb-97ed-e0b2961bc400",
   "metadata": {},
   "source": [
    "---\n",
    "Or we can also let Jupyter format the output. Just specify the variable in the last line of the cell"
   ]
  },
  {
   "cell_type": "code",
   "execution_count": 4,
   "id": "430023d9",
   "metadata": {
    "scrolled": true
   },
   "outputs": [
    {
     "data": {
      "text/plain": [
       "array([[ 6.1101 , 17.592  ],\n",
       "       [ 5.5277 ,  9.1302 ],\n",
       "       [ 8.5186 , 13.662  ],\n",
       "       [ 7.0032 , 11.854  ],\n",
       "       [ 5.8598 ,  6.8233 ],\n",
       "       [ 8.3829 , 11.886  ],\n",
       "       [ 7.4764 ,  4.3483 ],\n",
       "       [ 8.5781 , 12.     ],\n",
       "       [ 6.4862 ,  6.5987 ],\n",
       "       [ 5.0546 ,  3.8166 ],\n",
       "       [ 5.7107 ,  3.2522 ],\n",
       "       [14.164  , 15.505  ],\n",
       "       [ 5.734  ,  3.1551 ],\n",
       "       [ 8.4084 ,  7.2258 ],\n",
       "       [ 5.6407 ,  0.71618],\n",
       "       [ 5.3794 ,  3.5129 ],\n",
       "       [ 6.3654 ,  5.3048 ],\n",
       "       [ 5.1301 ,  0.56077],\n",
       "       [ 6.4296 ,  3.6518 ],\n",
       "       [ 7.0708 ,  5.3893 ],\n",
       "       [ 6.1891 ,  3.1386 ],\n",
       "       [20.27   , 21.767  ],\n",
       "       [ 5.4901 ,  4.263  ],\n",
       "       [ 6.3261 ,  5.1875 ],\n",
       "       [ 5.5649 ,  3.0825 ],\n",
       "       [18.945  , 22.638  ],\n",
       "       [12.828  , 13.501  ],\n",
       "       [10.957  ,  7.0467 ],\n",
       "       [13.176  , 14.692  ],\n",
       "       [22.203  , 24.147  ],\n",
       "       [ 5.2524 , -1.22   ],\n",
       "       [ 6.5894 ,  5.9966 ],\n",
       "       [ 9.2482 , 12.134  ],\n",
       "       [ 5.8918 ,  1.8495 ],\n",
       "       [ 8.2111 ,  6.5426 ],\n",
       "       [ 7.9334 ,  4.5623 ],\n",
       "       [ 8.0959 ,  4.1164 ],\n",
       "       [ 5.6063 ,  3.3928 ],\n",
       "       [12.836  , 10.117  ],\n",
       "       [ 6.3534 ,  5.4974 ],\n",
       "       [ 5.4069 ,  0.55657],\n",
       "       [ 6.8825 ,  3.9115 ],\n",
       "       [11.708  ,  5.3854 ],\n",
       "       [ 5.7737 ,  2.4406 ],\n",
       "       [ 7.8247 ,  6.7318 ],\n",
       "       [ 7.0931 ,  1.0463 ],\n",
       "       [ 5.0702 ,  5.1337 ],\n",
       "       [ 5.8014 ,  1.844  ],\n",
       "       [11.7    ,  8.0043 ],\n",
       "       [ 5.5416 ,  1.0179 ],\n",
       "       [ 7.5402 ,  6.7504 ],\n",
       "       [ 5.3077 ,  1.8396 ],\n",
       "       [ 7.4239 ,  4.2885 ],\n",
       "       [ 7.6031 ,  4.9981 ],\n",
       "       [ 6.3328 ,  1.4233 ],\n",
       "       [ 6.3589 , -1.4211 ],\n",
       "       [ 6.2742 ,  2.4756 ],\n",
       "       [ 5.6397 ,  4.6042 ],\n",
       "       [ 9.3102 ,  3.9624 ],\n",
       "       [ 9.4536 ,  5.4141 ],\n",
       "       [ 8.8254 ,  5.1694 ],\n",
       "       [ 5.1793 , -0.74279],\n",
       "       [21.279  , 17.929  ],\n",
       "       [14.908  , 12.054  ],\n",
       "       [18.959  , 17.054  ],\n",
       "       [ 7.2182 ,  4.8852 ],\n",
       "       [ 8.2951 ,  5.7442 ],\n",
       "       [10.236  ,  7.7754 ],\n",
       "       [ 5.4994 ,  1.0173 ],\n",
       "       [20.341  , 20.992  ],\n",
       "       [10.136  ,  6.6799 ],\n",
       "       [ 7.3345 ,  4.0259 ],\n",
       "       [ 6.0062 ,  1.2784 ],\n",
       "       [ 7.2259 ,  3.3411 ],\n",
       "       [ 5.0269 , -2.6807 ],\n",
       "       [ 6.5479 ,  0.29678],\n",
       "       [ 7.5386 ,  3.8845 ],\n",
       "       [ 5.0365 ,  5.7014 ],\n",
       "       [10.274  ,  6.7526 ],\n",
       "       [ 5.1077 ,  2.0576 ],\n",
       "       [ 5.7292 ,  0.47953],\n",
       "       [ 5.1884 ,  0.20421],\n",
       "       [ 6.3557 ,  0.67861],\n",
       "       [ 9.7687 ,  7.5435 ],\n",
       "       [ 6.5159 ,  5.3436 ],\n",
       "       [ 8.5172 ,  4.2415 ],\n",
       "       [ 9.1802 ,  6.7981 ],\n",
       "       [ 6.002  ,  0.92695],\n",
       "       [ 5.5204 ,  0.152  ],\n",
       "       [ 5.0594 ,  2.8214 ],\n",
       "       [ 5.7077 ,  1.8451 ],\n",
       "       [ 7.6366 ,  4.2959 ],\n",
       "       [ 5.8707 ,  7.2029 ],\n",
       "       [ 5.3054 ,  1.9869 ],\n",
       "       [ 8.2934 ,  0.14454],\n",
       "       [13.394  ,  9.0551 ],\n",
       "       [ 5.4369 ,  0.61705]])"
      ]
     },
     "execution_count": 4,
     "metadata": {},
     "output_type": "execute_result"
    }
   ],
   "source": [
    "data"
   ]
  },
  {
   "cell_type": "markdown",
   "id": "e7148498-2f8e-47c8-893a-2e9caae24989",
   "metadata": {},
   "source": [
    "---\n",
    "Extract the first column in the data set to vector **x** and the second column to vector **y**.   \n",
    "   \n",
    "   \n",
    "Plot a figure showing the data set as:&nbsp;&nbsp;&nbsp;&nbsp;&nbsp;&nbsp;{(x<sup>(i)</sup>,y<sup>(i)</sup>) | i=1,…, m }\n"
   ]
  },
  {
   "cell_type": "code",
   "execution_count": 5,
   "id": "03613673",
   "metadata": {
    "editable": true,
    "slideshow": {
     "slide_type": ""
    },
    "tags": []
   },
   "outputs": [
    {
     "data": {
      "image/png": "[encoded data removed]",
      "text/plain": [
       "<Figure size 640x480 with 1 Axes>"
      ]
     },
     "metadata": {},
     "output_type": "display_data"
    }
   ],
   "source": [
    "x=data[:,0] # x is the first  column in the data set\n",
    "y=data[:,1] # y is the second column in the data set\n",
    "\n",
    "plt.plot(x, y, \"+\", color = \"blue\")\n",
    "plt.show()"
   ]
  },
  {
   "cell_type": "code",
   "execution_count": 6,
   "id": "7302c9ea-ae1a-4d74-9d7c-bee43148b0c0",
   "metadata": {},
   "outputs": [
    {
     "name": "stdout",
     "output_type": "stream",
     "text": [
      "-3.8957808783118555\n",
      "1.1930336441895941\n"
     ]
    },
    {
     "data": {
      "image/png": "[encoded data removed]",
      "text/plain": [
       "<Figure size 640x480 with 1 Axes>"
      ]
     },
     "metadata": {},
     "output_type": "display_data"
    }
   ],
   "source": [
    "plt.plot(x, y, \"+\", color = \"blue\")\n",
    "# a) i)\n",
    "slope, intercept, r, p, s = scipy.stats.linregress(x, y)\n",
    "new_y = intercept + slope*x\n",
    "print(intercept)\n",
    "print(slope)\n",
    "plt.plot(x, new_y, 'red')\n",
    "plt.show()"
   ]
  },
  {
   "cell_type": "code",
   "execution_count": 7,
   "id": "afc83159-3780-4ecd-b27b-ae979064041f",
   "metadata": {},
   "outputs": [],
   "source": [
    "# a) ii)\n",
    "def linearRegression (x, y):\n",
    "    x_mean = x.mean() # Media x\n",
    "    y_mean = y.mean() # Media y\n",
    "\n",
    "    numerator = 0\n",
    "    denominator = 0\n",
    "    for i in range(len(x)):\n",
    "        numerator += (x[i] - x_mean) * (y[i] - y_mean)\n",
    "        denominator += (x[i]-x_mean)**2\n",
    "\n",
    "    slope = numerator/denominator\n",
    "\n",
    "    y_intercept = y_mean - slope * x_mean\n",
    "    return slope, y_intercept\n",
    "\n",
    "def hypothesi (slope, y_intercept, x):\n",
    "    result = y_intercept + slope*x\n",
    "    return result"
   ]
  },
  {
   "cell_type": "code",
   "execution_count": 8,
   "id": "f1c60470-9d54-40d6-8444-b0c54ce67209",
   "metadata": {},
   "outputs": [
    {
     "data": {
      "image/png": "[encoded data removed]",
      "text/plain": [
       "<Figure size 640x480 with 1 Axes>"
      ]
     },
     "metadata": {},
     "output_type": "display_data"
    }
   ],
   "source": [
    "plt.plot(x, y, \"+\", color = \"blue\")\n",
    "plt.plot(x, new_y, 'red')\n",
    "\n",
    "slope, y_intercept = linearRegression(x,y)\n",
    "hypothesis = hypothesi(slope, y_intercept, x)\n",
    "#b)\n",
    "plt.plot(x, hypothesis, 'red')\n",
    "plt.show()"
   ]
  },
  {
   "cell_type": "code",
   "execution_count": 9,
   "id": "3d181369-241e-44d2-9413-6baea1f494f2",
   "metadata": {},
   "outputs": [
    {
     "name": "stdout",
     "output_type": "stream",
     "text": [
      "Error: 1.47998891058878\n"
     ]
    },
    {
     "data": {
      "image/png": "[encoded data removed]",
      "text/plain": [
       "<Figure size 640x480 with 1 Axes>"
      ]
     },
     "metadata": {},
     "output_type": "display_data"
    }
   ],
   "source": [
    "plt.plot(x, y, \"+\", color = \"blue\")\n",
    "plt.plot(x, hypothesis, 'red')\n",
    "\n",
    "\n",
    "# c)\n",
    "\n",
    "real_y = 21.767\n",
    "fit_y = y_intercept + slope * 20.27\n",
    "\n",
    "plt.plot([20.27, 20.27],[real_y, fit_y], linestyle='-', color='y')\n",
    "print('Error: ' + str(21.767-fit_y))\n",
    "plt.show()"
   ]
  },
  {
   "cell_type": "code",
   "execution_count": 10,
   "id": "8a2a6b56-e6c0-428e-98ca-92d343638209",
   "metadata": {},
   "outputs": [
    {
     "name": "stdout",
     "output_type": "stream",
     "text": [
      "J= 4.476971375975181\n"
     ]
    }
   ],
   "source": [
    "# d)\n",
    "# i)\n",
    "def normalCost(x, y):\n",
    "    m = len(data)\n",
    "    sum = 0\n",
    "    for i in range(m):\n",
    "        sum += ((y_intercept + slope*x[i]) - y[i])**2\n",
    "    result = (1/(2*m))* sum\n",
    "    return result\n",
    "        \n",
    "J = normalCost(x, y)\n",
    "print(\"J= \" + str(J))"
   ]
  },
  {
   "attachments": {},
   "cell_type": "markdown",
   "id": "e98e80a3-2b5e-4a69-9f2b-59d9e9c0b67a",
   "metadata": {},
   "source": [
    "# ii)\n",
    "$$\n",
    "J(\\theta) = \\frac{1}{2m}(X\\theta-y)^{T}(X\\theta-y)\n",
    "$$"
   ]
  },
  {
   "cell_type": "code",
   "execution_count": 11,
   "id": "c0c88e78-c328-4eca-966d-c0d706e3c018",
   "metadata": {},
   "outputs": [
    {
     "name": "stdout",
     "output_type": "stream",
     "text": [
      "J= 4.476971375975179\n"
     ]
    }
   ],
   "source": [
    "# iii)\n",
    "def vectorCost(vx, vy, vt):\n",
    "    residual = np.subtract(np.dot(X, vt), vy)\n",
    "    u = np.dot(np.transpose(residual), residual)\n",
    "    result = np.dot(1/(2*m), u)\n",
    "    return result[0][0], residual\n",
    "\n",
    "m = len(data)\n",
    "vx = np.reshape(x, (m, 1))\n",
    "vy = np.reshape(y, (m, 1))\n",
    "vt = np.array([y_intercept, slope]).reshape(2,1)\n",
    "\n",
    "X = np.concatenate((np.ones((m,1)), vx), axis=1)\n",
    "\n",
    "cost, residual = vectorCost(vx, vy, vt)\n",
    "print(\"J= \" + str(cost))\n"
   ]
  },
  {
   "cell_type": "markdown",
   "id": "796d0cc6-ee3d-41c3-b469-340155c1f101",
   "metadata": {},
   "source": [
    "iv)\n",
    "    The advantages of expressing and computing in vector notation include the removal of loops, which makes the code simpler to understand and read. It also makes it easier to scale the problem, because when we use vectors and matrices, there are many optimized libraries for these types of operations. This reduces the time and hardware cost, as these libraries make efficient use of resources.\n"
   ]
  },
  {
   "cell_type": "code",
   "execution_count": 12,
   "id": "225d8cbb-6b0a-4442-8940-49e87e65ef5e",
   "metadata": {},
   "outputs": [
    {
     "data": {
      "text/plain": [
       "<matplotlib.lines.Line2D at 0x1b67eebd3a0>"
      ]
     },
     "execution_count": 12,
     "metadata": {},
     "output_type": "execute_result"
    },
    {
     "data": {
      "image/png": "[encoded data removed]",
      "text/plain": [
       "<Figure size 640x480 with 1 Axes>"
      ]
     },
     "metadata": {},
     "output_type": "display_data"
    }
   ],
   "source": [
    "# e)\n",
    "plt.scatter(x, residual, marker=\"+\", color=\"blue\")  #Residual\n",
    "plt.axhline(y=0, color='red', linestyle='--') # Independent Variable\n",
    "\n"
   ]
  },
  {
   "cell_type": "code",
   "execution_count": 13,
   "id": "32a7b360-f232-45e1-a4da-d136d7653d25",
   "metadata": {},
   "outputs": [
    {
     "name": "stdout",
     "output_type": "stream",
     "text": [
      "Residual Sum= 2.948752353404416e-13\n"
     ]
    }
   ],
   "source": [
    "# f)\n",
    "residual_sum = np.sum(residual)\n",
    "print(\"Residual Sum= \" + str (residual_sum))"
   ]
  },
  {
   "cell_type": "markdown",
   "id": "bb02064e-81ce-4a0d-86cf-e2c4088acc68",
   "metadata": {},
   "source": [
    "### g)\n",
    "\n",
    "The cost function is defined as:\n",
    "$$\n",
    "J(\\theta{0}, \\theta{1}, ..., \\theta{n}) = \\frac{1}{2m} \\sum{i = 1}^{m} (h{\\theta}(x^{(i)})-y{(i)})^{2}\n",
    "$$\n",
    "\n",
    "We need to calculate the derivative of the cost function with respect to a specific parameter $\\theta{j}$ :\n",
    "$$\n",
    "\\displaystyle \\frac{\\partial}{\\partial \\theta{j}} J(\\theta{0}, \\theta{1}, ..., \\theta{n}) \n",
    "$$\n",
    "\n",
    "We begin by applying the chain rule:\n",
    "$$\n",
    "\\displaystyle \\frac{\\partial}{\\partial x} h(x) = \\displaystyle \\frac{\\partial}{\\partial x} f(g(x)) = f^{'}(g(x)) . g^{'}(x)\n",
    "$$\n",
    "\n",
    "In this case, we can ignore for now the constant and the sum:\n",
    "<center>\n",
    "$\n",
    "\\displaystyle \\frac{\\partial}{\\partial x} f(g(x)) = \\displaystyle \\frac{\\partial}{\\partial x}((h{\\theta}(x^{(i)})-y{(i)})^{2})\\quad$ and $\\quad\\displaystyle \\frac{\\partial}{\\partial x} g(x) = \\displaystyle \\frac{\\partial}{\\partial x}(h{\\theta}(x^{(i)})-y{(i)})\n",
    "$\n",
    "</center>\n",
    "\n",
    "Calculating the derivative:\n",
    "$$\n",
    "\\displaystyle \\frac{\\partial}{\\partial \\theta{j}} J(\\theta{0}, \\theta{1}, ..., \\theta{n}) = \\displaystyle \\frac{\\partial}{\\partial x}((h{\\theta}(x^{(i)})-y{(i)})^{2}) . \\displaystyle \\frac{\\partial}{\\partial x}(h{\\theta}(x^{(i)})-y{(i)}) = 2(h\\theta(x^{(i)})-y^{(i)}\\displaystyle \\frac{\\partial}{\\partial \\theta{j}}(h{\\theta}(x^{(i)})-y{i}))\n",
    "$$\n",
    "\n",
    "We notice that:\n",
    "\n",
    "$$\n",
    "\\displaystyle \\frac{\\partial}{\\partial \\theta{j}}(h{\\theta}(x^{(i)})-y{i}) = \\displaystyle \\frac{\\partial}{\\partial \\theta{j}}(h{\\theta}(x^{(i)}))\n",
    "$$\n",
    "\n",
    "Now we swap the hypothesis:\n",
    "$$\n",
    "h{\\theta}(x) = \\theta^{T}x = \\theta{0}x{0} + \\theta{1}x{1} + \\theta{2}x{2} + ... + \\theta{n}x{n} \n",
    "$$\n",
    "\n",
    "And we calculate the derivative:\n",
    "$$\n",
    "\\displaystyle \\frac{\\partial}{\\partial \\theta{j}}(h{\\theta}(x^{(i)})) = x{j}^{i}\n",
    "$$\n",
    "\n",
    "Joining everything the derivative of the cost function with respect to a specific parameter $\\theta{j}$ is:\n",
    "$$\n",
    "\\displaystyle \\frac{\\partial}{\\partial \\theta{j}} J(\\theta{0}, \\theta{1}, ..., \\theta{n}) = \\frac{1}{m} \\sum{i = 1}^{m}(h{\\theta}(x^{(i)})-y^{(i)})x{j}^{(i)}\n",
    "$$"
   ]
  },
  {
   "cell_type": "markdown",
   "id": "8ed04d07-dc93-458a-9544-14f8e06cd692",
   "metadata": {},
   "source": [
    "h)\n",
    "$$\n",
    "\\theta := \\theta - a\\frac{1}{m}X^{T}(X\\theta-y)\n",
    "$$"
   ]
  },
  {
   "cell_type": "code",
   "execution_count": 14,
   "id": "f8fe4797-e74d-41f4-a147-46c4a32e4704",
   "metadata": {},
   "outputs": [
    {
     "name": "stdout",
     "output_type": "stream",
     "text": [
      "Theta_0 = -3.7880685727231094\n",
      "Theta_1 = 1.1822127747573767\n",
      "Cost = 4.47802760987997\n"
     ]
    }
   ],
   "source": [
    "# i)\n",
    "def gradientDescent(x, y, alpha, iterations):\n",
    "    theta = np.array([[0],[0]])\n",
    "    cost = []\n",
    "    for i in range(iterations):\n",
    "        residual = np.subtract(np.dot(X, theta), vy)\n",
    "        XT = np.transpose(X)\n",
    "        v = np.dot(alpha*(1/m), np.dot(XT, residual))\n",
    "        theta = np.subtract(theta, v)\n",
    "        cost.append(vectorCost(vx, vy, theta)[0])\n",
    "    return theta, cost\n",
    "\n",
    "iterations = 2000\n",
    "learning_rate = 0.01\n",
    "theta_gradient, cost = gradientDescent(vx, vy, learning_rate, iterations)\n",
    "theta_linear = linearRegression (vx, vy)\n",
    "\n",
    "print(\"Theta_0 = \" + str(theta_gradient[0][0]))\n",
    "print(\"Theta_1 = \" + str(theta_gradient[1][0]))\n",
    "print(\"Cost = \"+ str(cost[-1]))\n"
   ]
  },
  {
   "cell_type": "markdown",
   "id": "c29a9109-cdb1-4905-ab3e-abfccc64e6cc",
   "metadata": {},
   "source": [
    "j)\n",
    "\n",
    "In a) we calculated $\\theta0$ and $\\theta1$\n",
    "\n",
    "In i) we calculated $\\theta0$ and $\\theta1$\n",
    "\n",
    "In d) we calculated the normal cost of the function\n",
    "\n"
   ]
  }
 ],
 "metadata": {
  "kernelspec": {
   "display_name": ".venv",
   "language": "python",
   "name": "python3"
  },
  "language_info": {
   "codemirror_mode": {
    "name": "ipython",
    "version": 3
   },
   "file_extension": ".py",
   "mimetype": "text/x-python",
   "name": "python",
   "nbconvert_exporter": "python",
   "pygments_lexer": "ipython3",
   "version": "3.12.5"
  }
 },
 "nbformat": 4,
 "nbformat_minor": 5
}
