{
 "cells": [
  {
   "cell_type": "markdown",
   "id": "02972eec",
   "metadata": {},
   "source": [
    "### Lab 4: Multivariate and logistic regression"
   ]
  },
  {
   "cell_type": "markdown",
   "id": "c900a407-d671-4e14-a8f3-209c30c580d1",
   "metadata": {},
   "source": [
    "## 1. Import packages"
   ]
  },
  {
   "cell_type": "code",
   "execution_count": 1,
   "id": "2ee08d74-60d9-4274-b89a-9dabaeba395d",
   "metadata": {},
   "outputs": [],
   "source": [
    "import numpy as np\n",
    "from sklearn.linear_model import LinearRegression as LinearRegressionSKL\n",
    "import matplotlib.pyplot as plt"
   ]
  },
  {
   "cell_type": "markdown",
   "id": "3963fb13-42be-4f62-9ef4-35108279d20a",
   "metadata": {},
   "source": [
    "## 1. Helper functions"
   ]
  },
  {
   "cell_type": "code",
   "execution_count": 2,
   "id": "0ab95a50-2b72-455e-a51d-6ed71880304b",
   "metadata": {},
   "outputs": [],
   "source": [
    "#An helper function to plot the single variable regression data\n",
    "def plotSingleRegression(xf, yf, xt, yt, yp):\n",
    "    plt.scatter(xf, yf, color = \"blue\")\n",
    "    plt.scatter(xt, yt, color = 'red')\n",
    "    plt.plot(xt, yp, '--', color = 'green')\n",
    "    plt.xlabel('x')\n",
    "    plt.ylabel('y')\n",
    "    plt.show()"
   ]
  },
  {
   "cell_type": "code",
   "execution_count": 3,
   "id": "8b2fdd75-4b54-46a1-9ece-899129fff674",
   "metadata": {},
   "outputs": [],
   "source": [
    "#An helper function to plot the single variable regression data, for multiple solutions\n",
    "def plotSingleRegressionV(xf, yf, xt, yt, yp):\n",
    "    plt.scatter(xf, yf, color = \"blue\")\n",
    "    plt.scatter(xt, yt, color = 'red')\n",
    "    for ypi in yp:\n",
    "        plt.plot(xt, ypi, '--', color = 'green')\n",
    "    plt.xlabel('x')\n",
    "    plt.ylabel('y')\n",
    "    plt.show()"
   ]
  },
  {
   "cell_type": "markdown",
   "id": "5e59ef44-a59c-49a3-b712-e3a1cdf9fcd3",
   "metadata": {},
   "source": [
    "## 2. Classifiers hierarchy "
   ]
  },
  {
   "cell_type": "code",
   "execution_count": 4,
   "id": "92252b91-80ec-4a2e-ad4e-dbd65b2948a4",
   "metadata": {},
   "outputs": [],
   "source": [
    "from abc import ABC, abstractmethod\n",
    "from typing import *\n",
    "from numpy.typing import NDArray\n",
    "\n",
    "class IModel(ABC):\n",
    "\n",
    "    @abstractmethod\n",
    "    def fit(X : NDArray, y : NDArray) -> None:\n",
    "        '''\n",
    "        X is a 2D array with n features accross columns and m data points across rows.\n",
    "        y is a column vector with m labels, one for each data point in X.\n",
    "        '''\n",
    "        pass\n",
    "    \n",
    "    @abstractmethod\n",
    "    def predict(xp : NDArray) -> NDArray:\n",
    "        '''\n",
    "        xp is a column vector with k data points, each with n features.\n",
    "        returns a vector with k predicted labels, one for each data point in vector xp.\n",
    "        '''\n",
    "        pass\n",
    "\n",
    "    \n",
    "    @abstractmethod\n",
    "    def theta() -> [None | NDArray]:\n",
    "        '''\n",
    "        returns the vector theta with k coefficients after model trained.\n",
    "        before training returns None\n",
    "        '''\n",
    "        pass\n"
   ]
  },
  {
   "cell_type": "markdown",
   "id": "550b90d6-24fa-453a-869c-81daf5b2580d",
   "metadata": {},
   "source": [
    "## "
   ]
  },
  {
   "cell_type": "code",
   "execution_count": 5,
   "id": "4140079d-bdd6-4223-99c6-38ddcd27036e",
   "metadata": {},
   "outputs": [],
   "source": [
    "class Classifier (IModel):\n",
    "    '''\n",
    "    Implements the Normal equation model without regularization\n",
    "    '''\n",
    "\n",
    "    #Constructor\n",
    "    def __init__(self):\n",
    "        self._theta = None\n",
    "\n",
    "\n",
    "    #predict after training\n",
    "    def predict(self, xp : NDArray) -> NDArray:\n",
    "        if self._theta is None:\n",
    "            raise Exception('It is needed to fit model first')\n",
    "        else:    \n",
    "            # add a column of 1s \n",
    "            xp = np.column_stack((np.ones_like(xp[:,0]), xp))\n",
    "            # predicting \n",
    "            return xp.dot(self._theta)\n",
    "\n",
    "    \n",
    "    # return values for theta found after training or None\n",
    "    def theta(self) -> [None | NDArray]:\n",
    "        return self._theta\n",
    "\n",
    "    # add a column of 1s at the left\n",
    "    def _addOnesLeft(self, X:NDArray) -> NDArray:\n",
    "        return np.column_stack((np.ones_like(X[:,0]), X))"
   ]
  },
  {
   "cell_type": "code",
   "execution_count": 6,
   "id": "8537e631-e884-4135-a4b0-62707dd47069",
   "metadata": {},
   "outputs": [],
   "source": [
    "class NormalEQ (Classifier):\n",
    "    '''\n",
    "    Implements the Normal equation model without regularization\n",
    "    '''\n",
    "\n",
    "    #            T  -1    T\n",
    "    # Θ = ( X . X  )   . X  y   \n",
    "        \n",
    "    #Fit with normal equation best theta\n",
    "    def fit(self, X : NDArray, y : NDArray) -> None:\n",
    "        # add a column of 1s\n",
    "        X = super()._addOnesLeft(X)\n",
    "        \n",
    "        # compute normal equation\n",
    "        #pinv calculates pseudo inverse\n",
    "        #useful if there is linear dependent columns\n",
    "        #eg. one feature is the price in Euros and another feature is the price in Pounds\n",
    "        self._theta = np.linalg.pinv(X.T.dot(X)).dot(X.T).dot(y)\n"
   ]
  },
  {
   "cell_type": "code",
   "execution_count": 7,
   "id": "0269782c-504e-49c4-857e-bfd8b827586e",
   "metadata": {},
   "outputs": [],
   "source": [
    "class LinearRegression (NormalEQ):\n",
    "    '''\n",
    "    Implements multivariate linear regression without regularization, based on the Normal equation model\n",
    "\n",
    "    just an alias for class NormalEQ\n",
    "    '''\n",
    "    pass"
   ]
  },
  {
   "cell_type": "code",
   "execution_count": 8,
   "id": "cdcb6d9b-b9fa-4014-a2a4-dc082a4b9958",
   "metadata": {},
   "outputs": [],
   "source": [
    "class NormalEQReg (Classifier):\n",
    "    '''\n",
    "    Implements the Normal equation model with regularization\n",
    "    '''\n",
    "\n",
    "    def __init__(self, l:int):\n",
    "        if l < 0:\n",
    "            raise Exception('lambda must be >= 0')\n",
    "        self._lambda = l\n",
    "        super().__init__()\n",
    "\n",
    "    \n",
    "    #https://dev.to/_s_w_a_y_a_m_/linear-regression-using-normal-equation-21co\n",
    "    #\n",
    "    #            T       -1     T\n",
    "    # Θ = ( X . X  + λ R)   . X  y   \n",
    "    #\n",
    "    # Where R is an Identity matrix where λ(0,0) = 0\n",
    "    \n",
    "    #Fit with normal equation best theta\n",
    "    def fit(self, X : NDArray, y : NDArray) -> None:\n",
    "           \n",
    "        # add a column of 1s\n",
    "        X = super()._addOnesLeft(X)\n",
    "\n",
    "        # setup regularization\n",
    "        R = np.identity(X.shape[1])\n",
    "        R[0,0] = 0\n",
    "        \n",
    "        # compute normal equation\n",
    "        #pinv calculates pseudo inverse\n",
    "        #useful if there is linear dependent columns\n",
    "        #eg. one feature is the price in Euros and another feature is the price in Pounds\n",
    "        projection_y = (X.T).dot(y)\n",
    "        cov          = np.linalg.pinv(X.T.dot(X) + np.multiply(self._lambda, R)) \n",
    "        self._theta = projection_y.dot(cov)"
   ]
  },
  {
   "cell_type": "markdown",
   "id": "40f09512-0349-4d6b-926f-c0ee045d1149",
   "metadata": {},
   "source": [
    "## 3. Quiz solution"
   ]
  },
  {
   "cell_type": "markdown",
   "id": "8d76da17-b0c4-4ad1-85e1-f98d9516dde8",
   "metadata": {},
   "source": [
    "---\n",
    "1.\tExpress the gradient descent update with regularization in vector form:\n",
    "\n"
   ]
  },
  {
   "cell_type": "code",
   "execution_count": null,
   "id": "ecc2a4d0-8ef9-4cc3-996b-9201059a6f5f",
   "metadata": {},
   "outputs": [],
   "source": []
  }
 ],
 "metadata": {
  "kernelspec": {
   "display_name": "Python 3 (ipykernel)",
   "language": "python",
   "name": "python3"
  },
  "language_info": {
   "codemirror_mode": {
    "name": "ipython",
    "version": 3
   },
   "file_extension": ".py",
   "mimetype": "text/x-python",
   "name": "python",
   "nbconvert_exporter": "python",
   "pygments_lexer": "ipython3",
   "version": "3.12.5"
  }
 },
 "nbformat": 4,
 "nbformat_minor": 5
}
