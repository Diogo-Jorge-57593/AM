{
 "cells": [
  {
   "cell_type": "markdown",
   "id": "57033adf-df9c-44d6-987f-bc66afe44e70",
   "metadata": {},
   "source": [
    "### Lab 6: Empirical comparison of classifiers over WTDT dataset "
   ]
  },
  {
   "cell_type": "code",
   "execution_count": 2,
   "id": "aa982240-9d08-4b91-951c-709e90ed22a6",
   "metadata": {},
   "outputs": [],
   "source": [
    "#Import packages\n",
    "\n",
    "import numpy as np\n",
    "from numpy.typing import NDArray\n",
    "import pickle\n",
    "import matplotlib.pyplot as plt\n",
    "from sklearn.metrics import accuracy_score\n",
    "from sklearn.linear_model import LogisticRegression\n",
    "from sklearn.model_selection import train_test_split\n"
   ]
  },
  {
   "cell_type": "code",
   "execution_count": 3,
   "id": "96d1f3d9-2aea-4276-b38f-70412c2ecf87",
   "metadata": {},
   "outputs": [],
   "source": [
    "#Auxiliary functions\n",
    "\n",
    "def onehot2cat(y:NDArray) -> NDArray:\n",
    "    '''Convert y in one_hot to categorical'''\n",
    "    return np.argmax(y, axis=1) \n",
    "\n",
    "\n",
    "def loadDataset(fn:str, toCat:bool=False) -> NDArray:\n",
    "    '''load dataset'''\n",
    "    with open(fn, 'rb') as f:\n",
    "        data = pickle.load(f)\n",
    "        \n",
    "    X = data['X'] \n",
    "    if toCat: y = onehot2cat(data['Y'])\n",
    "    else:     y = data['Y'] \n",
    "    \n",
    "    return X, y\n",
    "\n",
    "\n",
    "def saveSKLModel(fn:str, model) -> None:\n",
    "    '''save SKLearn model as pickle'''\n",
    "    with open(fn, 'wb') as f:\n",
    "        pickle.dump(model, f)\n",
    "        "
   ]
  },
  {
   "cell_type": "code",
   "execution_count": 4,
   "id": "03dbc103-2519-4d6d-b228-5e106d6f0047",
   "metadata": {},
   "outputs": [
    {
     "name": "stdout",
     "output_type": "stream",
     "text": [
      "(14000, 787)\n",
      "(14000,)\n"
     ]
    }
   ],
   "source": [
    "#load dataset\n",
    "\n",
    "fnt = 'wtdt-part.pickle'\n",
    "X, y = loadDataset(fnt, toCat=True)\n",
    "print(X.shape)\n",
    "print(y.shape)\n",
    "X_train, X_test, y_train, y_test = train_test_split(X, y, test_size=0.2)"
   ]
  },
  {
   "cell_type": "code",
   "execution_count": null,
   "id": "f613f463",
   "metadata": {},
   "outputs": [],
   "source": [
    "C = 5.41314288836357e-05\n",
    "solver = 'saga'\n",
    "model = LogisticRegression(C=C, solver=solver, max_iter=10000)\n",
    "features = f\"C={C}, solver={solver}\"\n",
    "model.fit(X_train, y_train)\n"
   ]
  },
  {
   "cell_type": "code",
   "execution_count": 17,
   "id": "30d29ded",
   "metadata": {},
   "outputs": [
    {
     "name": "stdout",
     "output_type": "stream",
     "text": [
      "Accuracy for each fold: [0.99955357 0.99955357 0.99910714 0.99955357 0.99866071]\n",
      "Mean Accuracy: 0.9992857142857142\n",
      "Standard Deviation of Accuracy: 0.0003571428571428503\n"
     ]
    }
   ],
   "source": [
    "# Perform 5-fold cross-validation\n",
    "from sklearn.model_selection import cross_val_score\n",
    "\n",
    "\n",
    "cv_scores = cross_val_score(model, X_train, y_train, cv=5, scoring='accuracy')\n",
    "\n",
    "# Print the accuracy for each fold\n",
    "print(\"Accuracy for each fold:\", cv_scores)\n",
    "\n",
    "# Print the mean and standard deviation of the cross-validation scores\n",
    "print(\"Mean Accuracy:\", np.mean(cv_scores))\n",
    "print(\"Standard Deviation of Accuracy:\", np.std(cv_scores))"
   ]
  },
  {
   "cell_type": "code",
   "execution_count": 7,
   "id": "1687dadc",
   "metadata": {},
   "outputs": [],
   "source": [
    "saveSKLModel(\"T1-randomForest.pickle\", model)"
   ]
  },
  {
   "cell_type": "code",
   "execution_count": null,
   "id": "bc77b8e4",
   "metadata": {},
   "outputs": [],
   "source": []
  },
  {
   "cell_type": "markdown",
   "id": "09a72e00",
   "metadata": {},
   "source": [
    "# Regularized Logistic Regression"
   ]
  },
  {
   "cell_type": "code",
   "execution_count": null,
   "id": "90c00cd1",
   "metadata": {},
   "outputs": [
    {
     "name": "stdout",
     "output_type": "stream",
     "text": [
      "Accuracy: 0.9942857142857143\n"
     ]
    },
    {
     "name": "stderr",
     "output_type": "stream",
     "text": [
      "c:\\Users\\a932443\\OneDrive - Eviden\\Desktop\\Uni\\AM\\.venv\\Lib\\site-packages\\sklearn\\svm\\_base.py:1235: ConvergenceWarning: Liblinear failed to converge, increase the number of iterations.\n",
      "  warnings.warn(\n"
     ]
    }
   ],
   "source": [
    "# Import necessary libraries\n",
    "from sklearn.linear_model import LogisticRegression\n",
    "from sklearn.metrics import accuracy_score\n",
    "\n",
    "# Split the dataset into training and testing sets\n",
    "X_train, X_test, y_train, y_test = train_test_split(X, y, test_size=0.2)\n",
    "\n",
    "# Initialize Logistic Regression model with regularization (default is L2 regularization)\n",
    "# Setting 'C' to a smaller value increases regularization\n",
    "model = LogisticRegression(C=0.01, penalty='l2',  solver='liblinear')\n",
    "\n",
    "# Train the model\n",
    "model.fit(X_train, y_train)\n",
    "\n",
    "# Make predictions on the test set\n",
    "y_pred = model.predict(X_test)\n",
    "\n",
    "# Calculate accuracy\n",
    "accuracy = accuracy_score(y_test, y_pred)\n",
    "print(\"Accuracy:\", accuracy)\n",
    "\n",
    "# Save the trained model\n",
    "saveSKLModel('logistic_regression_model.pkl', model)\n"
   ]
  },
  {
   "cell_type": "code",
   "execution_count": 5,
   "id": "68565f09",
   "metadata": {},
   "outputs": [
    {
     "name": "stdout",
     "output_type": "stream",
     "text": [
      "Best regularization parameter (C): 0.01\n",
      "Optimized Accuracy: 0.9971428571428571\n"
     ]
    }
   ],
   "source": [
    "from sklearn.model_selection import GridSearchCV\n",
    "\n",
    "# Define a range of C values to test\n",
    "param_grid = {'C': [0.01, 0.1, 1, 10, 100]}\n",
    "\n",
    "# Initialize Logistic Regression model\n",
    "log_reg = LogisticRegression(penalty='l2', max_iter=1000, solver='liblinear')\n",
    "\n",
    "# Set up GridSearchCV to find the best C value\n",
    "grid_search = GridSearchCV(log_reg, param_grid, cv=5, scoring='accuracy', n_jobs=-1)\n",
    "\n",
    "# Perform grid search\n",
    "grid_search.fit(X_train, y_train)\n",
    "\n",
    "# Get the best regularization parameter\n",
    "best_C = grid_search.best_params_['C']\n",
    "print(\"Best regularization parameter (C):\", best_C)\n",
    "\n",
    "# Train the model again using the best C value\n",
    "best_model = LogisticRegression(C=best_C, penalty='l2', max_iter=1000, solver='liblinear')\n",
    "best_model.fit(X_train, y_train)\n",
    "\n",
    "# Make predictions and evaluate accuracy\n",
    "y_pred = best_model.predict(X_test)\n",
    "accuracy = accuracy_score(y_test, y_pred)\n",
    "print(\"Optimized Accuracy:\", accuracy)\n",
    "\n",
    "# Save the best model\n",
    "saveSKLModel('optimized_logistic_regression_model.pkl', best_model)\n"
   ]
  },
  {
   "cell_type": "code",
   "execution_count": 21,
   "id": "df8e06e0",
   "metadata": {},
   "outputs": [
    {
     "name": "stdout",
     "output_type": "stream",
     "text": [
      "Accuracy with scaled features: 0.9942857142857143\n"
     ]
    }
   ],
   "source": [
    "from sklearn.preprocessing import StandardScaler\n",
    "\n",
    "scaler = StandardScaler()\n",
    "X_train_scaled = scaler.fit_transform(X_train)\n",
    "X_test_scaled = scaler.transform(X_test)\n",
    "\n",
    "model.fit(X_train_scaled, y_train)\n",
    "y_pred = model.predict(X_test_scaled)\n",
    "accuracy = accuracy_score(y_test, y_pred)\n",
    "print(\"Accuracy with scaled features:\", accuracy)\n"
   ]
  },
  {
   "cell_type": "code",
   "execution_count": 22,
   "id": "4c5fe86b",
   "metadata": {},
   "outputs": [
    {
     "name": "stdout",
     "output_type": "stream",
     "text": [
      "Class distribution: {np.int64(0): np.int64(2000), np.int64(1): np.int64(2000), np.int64(2): np.int64(2000), np.int64(3): np.int64(2000), np.int64(4): np.int64(2000), np.int64(5): np.int64(2000), np.int64(6): np.int64(2000)}\n"
     ]
    },
    {
     "data": {
      "image/png": "[encoded data removed]",
      "text/plain": [
       "<Figure size 640x480 with 2 Axes>"
      ]
     },
     "metadata": {},
     "output_type": "display_data"
    }
   ],
   "source": [
    "# Import necessary libraries for evaluation\n",
    "from sklearn.metrics import confusion_matrix, ConfusionMatrixDisplay\n",
    "import numpy as np\n",
    "import matplotlib.pyplot as plt\n",
    "\n",
    "# Check class distribution\n",
    "unique, counts = np.unique(y, return_counts=True)\n",
    "class_distribution = dict(zip(unique, counts))\n",
    "print(\"Class distribution:\", class_distribution)\n",
    "\n",
    "# Make predictions on the test set if not done already\n",
    "y_pred = model.predict(X_test_scaled)\n",
    "\n",
    "# Compute the confusion matrix\n",
    "conf_matrix = confusion_matrix(y_test, y_pred)\n",
    "\n",
    "# Plot the confusion matrix\n",
    "disp = ConfusionMatrixDisplay(confusion_matrix=conf_matrix, display_labels=np.unique(y))\n",
    "disp.plot(cmap=plt.cm.Blues)\n",
    "plt.title(\"Confusion Matrix\")\n",
    "plt.show()\n"
   ]
  },
  {
   "cell_type": "markdown",
   "id": "d1fd83a9",
   "metadata": {},
   "source": [
    "# Regularized Logistic Regression with mini batch training"
   ]
  },
  {
   "cell_type": "code",
   "execution_count": 7,
   "id": "e9d2b2a3",
   "metadata": {},
   "outputs": [
    {
     "name": "stdout",
     "output_type": "stream",
     "text": [
      "Testing batch_size=16, learning_rate=0.01, n_epochs=50\n",
      "Accuracy: 0.50429\n",
      "Testing batch_size=16, learning_rate=0.01, n_epochs=100\n",
      "Accuracy: 0.90143\n",
      "Testing batch_size=16, learning_rate=0.01, n_epochs=200\n",
      "Accuracy: 0.65036\n",
      "Testing batch_size=16, learning_rate=0.001, n_epochs=50\n",
      "Accuracy: 0.57679\n",
      "Testing batch_size=16, learning_rate=0.001, n_epochs=100\n",
      "Accuracy: 0.82250\n",
      "Testing batch_size=16, learning_rate=0.001, n_epochs=200\n",
      "Accuracy: 0.92929\n",
      "Testing batch_size=16, learning_rate=0.0001, n_epochs=50\n",
      "Accuracy: 0.59071\n",
      "Testing batch_size=16, learning_rate=0.0001, n_epochs=100\n",
      "Accuracy: 0.91250\n",
      "Testing batch_size=16, learning_rate=0.0001, n_epochs=200\n",
      "Accuracy: 0.93000\n",
      "Testing batch_size=32, learning_rate=0.01, n_epochs=50\n",
      "Accuracy: 0.57321\n",
      "Testing batch_size=32, learning_rate=0.01, n_epochs=100\n",
      "Accuracy: 0.81321\n",
      "Testing batch_size=32, learning_rate=0.01, n_epochs=200\n",
      "Accuracy: 0.65857\n",
      "Testing batch_size=32, learning_rate=0.001, n_epochs=50\n",
      "Accuracy: 0.59893\n",
      "Testing batch_size=32, learning_rate=0.001, n_epochs=100\n",
      "Accuracy: 0.79643\n",
      "Testing batch_size=32, learning_rate=0.001, n_epochs=200\n",
      "Accuracy: 0.70321\n",
      "Testing batch_size=32, learning_rate=0.0001, n_epochs=50\n",
      "Accuracy: 0.64750\n",
      "Testing batch_size=32, learning_rate=0.0001, n_epochs=100\n",
      "Accuracy: 0.79393\n",
      "Testing batch_size=32, learning_rate=0.0001, n_epochs=200\n",
      "Accuracy: 0.80036\n",
      "Testing batch_size=64, learning_rate=0.01, n_epochs=50\n",
      "Accuracy: 0.69786\n",
      "Testing batch_size=64, learning_rate=0.01, n_epochs=100\n",
      "Accuracy: 0.90107\n",
      "Testing batch_size=64, learning_rate=0.01, n_epochs=200\n",
      "Accuracy: 0.78286\n",
      "Testing batch_size=64, learning_rate=0.001, n_epochs=50\n",
      "Accuracy: 0.72036\n",
      "Testing batch_size=64, learning_rate=0.001, n_epochs=100\n",
      "Accuracy: 0.90071\n",
      "Testing batch_size=64, learning_rate=0.001, n_epochs=200\n",
      "Accuracy: 0.92429\n",
      "Testing batch_size=64, learning_rate=0.0001, n_epochs=50\n",
      "Accuracy: 0.66714\n",
      "Testing batch_size=64, learning_rate=0.0001, n_epochs=100\n",
      "Accuracy: 0.88643\n",
      "Testing batch_size=64, learning_rate=0.0001, n_epochs=200\n",
      "Accuracy: 0.93393\n",
      "Best accuracy: 0.93393\n",
      "Best parameters: {'batch_size': 64, 'learning_rate': 0.0001, 'n_epochs': 200}\n"
     ]
    }
   ],
   "source": [
    "import numpy as np\n",
    "from sklearn.linear_model import SGDClassifier\n",
    "from sklearn.model_selection import train_test_split\n",
    "\n",
    "# Assuming X and y are already defined\n",
    "X_train, X_test, y_train, y_test = train_test_split(X, y, test_size=0.2, random_state=42)\n",
    "\n",
    "# Hyperparameter grid\n",
    "batch_sizes = [16, 32, 64]\n",
    "learning_rates = [0.01, 0.001, 0.0001]\n",
    "iterations = [50, 100, 200]\n",
    "\n",
    "# Variables to track the best combination\n",
    "best_acc = 0\n",
    "best_params = None\n",
    "\n",
    "# Grid search loop\n",
    "for batch_size in batch_sizes:\n",
    "    for learning_rate in learning_rates:\n",
    "        for n_epochs in iterations:\n",
    "            print(f\"Testing batch_size={batch_size}, learning_rate={learning_rate}, n_epochs={n_epochs}\")\n",
    "            \n",
    "            # Initialize classifier with the current learning rate\n",
    "            clf = SGDClassifier(loss='hinge', learning_rate='constant', eta0=learning_rate, random_state=42)\n",
    "            \n",
    "            # Define parameters\n",
    "            samples = X_train.shape[0]\n",
    "            rng = np.random.default_rng(seed=0)\n",
    "            \n",
    "            # Training loop\n",
    "            for epoch in range(n_epochs):\n",
    "                # Shuffle before each epoch\n",
    "                p = rng.permutation(samples)\n",
    "                Xr = X_train[p, :]\n",
    "                yr = y_train[p]\n",
    "                \n",
    "                # Train for each mini-batch\n",
    "                for bs in range(0, samples, batch_size):\n",
    "                    Xi = Xr[bs:bs + batch_size, :]\n",
    "                    yi = yr[bs:bs + batch_size]\n",
    "                    \n",
    "                    # Train on batch using partial_fit\n",
    "                    clf.partial_fit(Xi, yi, classes=np.unique(y_train))\n",
    "            \n",
    "            # Evaluate accuracy after all epochs\n",
    "            acc = clf.score(X_test, y_test)\n",
    "            print(f\"Accuracy: {acc:.5f}\")\n",
    "            \n",
    "            # Update best parameters if accuracy improves\n",
    "            if acc > best_acc:\n",
    "                best_acc = acc\n",
    "                best_params = {\n",
    "                    \"batch_size\": batch_size,\n",
    "                    \"learning_rate\": learning_rate,\n",
    "                    \"n_epochs\": n_epochs,\n",
    "                }\n",
    "\n",
    "# Final output\n",
    "print(f\"Best accuracy: {best_acc:.5f}\")\n",
    "print(f\"Best parameters: {best_params}\")\n"
   ]
  },
  {
   "cell_type": "code",
   "execution_count": 28,
   "id": "073b5f26",
   "metadata": {},
   "outputs": [
    {
     "name": "stdout",
     "output_type": "stream",
     "text": [
      "Accuracy: 0.905\n"
     ]
    }
   ],
   "source": [
    "y_pred = clf.predict(X_test)\n",
    "\n",
    "# Evaluate the model\n",
    "accuracy = accuracy_score(y_test, y_pred)\n",
    "print(f\"Accuracy: {accuracy}\")\n"
   ]
  },
  {
   "cell_type": "markdown",
   "id": "8ab5ccc6",
   "metadata": {},
   "source": [
    "# Naïve Bayes classifier"
   ]
  },
  {
   "cell_type": "code",
   "execution_count": 25,
   "id": "f6ab3345",
   "metadata": {},
   "outputs": [
    {
     "name": "stdout",
     "output_type": "stream",
     "text": [
      "Accuracy: 0.9896428571428572\n"
     ]
    }
   ],
   "source": [
    "from sklearn.naive_bayes import GaussianNB\n",
    "from sklearn.metrics import accuracy_score\n",
    "\n",
    "X_train, X_test, y_train, y_test = train_test_split(X, y, test_size=0.2)\n",
    "\n",
    "# Create the Naive Bayes model (MultinomialNB for discrete data)\n",
    "model_nb = GaussianNB()\n",
    "\n",
    "model_nb.fit(X_train, y_train)\n",
    "\n",
    "y_pred = model_nb.predict(X_test)\n",
    "\n",
    "# Evaluate the model\n",
    "accuracy = accuracy_score(y_test, y_pred)\n",
    "print(f\"Accuracy: {accuracy}\")\n",
    "\n"
   ]
  }
 ],
 "metadata": {
  "kernelspec": {
   "display_name": ".venv",
   "language": "python",
   "name": "python3"
  },
  "language_info": {
   "codemirror_mode": {
    "name": "ipython",
    "version": 3
   },
   "file_extension": ".py",
   "mimetype": "text/x-python",
   "name": "python",
   "nbconvert_exporter": "python",
   "pygments_lexer": "ipython3",
   "version": "3.12.5"
  }
 },
 "nbformat": 4,
 "nbformat_minor": 5
}
