{
 "cells": [
  {
   "cell_type": "code",
   "execution_count": 1,
   "metadata": {},
   "outputs": [],
   "source": [
    "#Import packages\n",
    "\n",
    "import numpy as np\n",
    "from numpy.typing import NDArray\n",
    "import pickle\n",
    "import matplotlib.pyplot as plt\n",
    "from sklearn.linear_model import LogisticRegression\n",
    "from sklearn.model_selection import train_test_split\n",
    "from sklearn.metrics import accuracy_score\n",
    "import numpy as np\n",
    "from sklearn.ensemble import RandomForestClassifier\n",
    "from sklearn.metrics import accuracy_score\n",
    "from sklearn.utils import shuffle\n",
    "#Auxiliary functions\n",
    "def onehot2cat(y:NDArray) -> NDArray:\n",
    "    '''Convert y in one_hot to categorical'''\n",
    "    return np.argmax(y, axis=1) \n",
    "\n",
    "\n",
    "def loadDataset(fn:str, toCat:bool=False) -> NDArray:\n",
    "    '''load dataset'''\n",
    "    with open(fn, 'rb') as f:\n",
    "        data = pickle.load(f)\n",
    "        \n",
    "    X = data['X'] \n",
    "    if toCat: y = onehot2cat(data['Y'])\n",
    "    else:     y = data['Y'] \n",
    "    \n",
    "    return X, y\n",
    "\n",
    "\n",
    "def saveSKLModel(fn:str, model) -> None:\n",
    "    '''save SKLearn model as pickle'''\n",
    "    with open(fn, 'wb') as f:\n",
    "        pickle.dump(model, f)\n",
    "\n",
    "#load dataset\n",
    "\n",
    "fnt = 'wtdt-part.pickle'\n",
    "X, y = loadDataset(fnt, toCat=True)"
   ]
  },
  {
   "cell_type": "code",
   "execution_count": 8,
   "metadata": {},
   "outputs": [
    {
     "name": "stdout",
     "output_type": "stream",
     "text": [
      "Test dataset saved to wdt-test.pickle\n",
      "Training dataset saved to wdt-train.pickle\n"
     ]
    }
   ],
   "source": [
    "import numpy as np\n",
    "import pickle\n",
    "from sklearn.utils import shuffle\n",
    "\n",
    "# Number of samples to extract per class for the test set\n",
    "n_samples_per_class = 400\n",
    "\n",
    "# Arrays to store the extracted test set and remaining training set\n",
    "X_test_extracted = []\n",
    "y_test_extracted = []\n",
    "X_train_remaining = []\n",
    "y_train_remaining = []\n",
    "\n",
    "# Loop through each fault class and split data\n",
    "for fault_class in range(7):  # Assuming 7 fault classes (0 to 6)\n",
    "    # Get indices of samples belonging to the current fault class\n",
    "    class_indices = np.where(y == fault_class)[0]\n",
    "    class_X = X[class_indices]\n",
    "    class_y = y[class_indices]\n",
    "\n",
    "    # Shuffle the samples for randomness\n",
    "    class_X, class_y = shuffle(class_X, class_y, random_state=42)\n",
    "\n",
    "    # Extract the last 400 samples for the test set\n",
    "    X_test_extracted.append(class_X[-n_samples_per_class:])\n",
    "    y_test_extracted.append(class_y[-n_samples_per_class:])\n",
    "\n",
    "    # Use the remaining samples for the training set\n",
    "    X_train_remaining.append(class_X[:-n_samples_per_class])\n",
    "    y_train_remaining.append(class_y[:-n_samples_per_class])\n",
    "\n",
    "\n",
    "# Combine the test set samples from all classes\n",
    "X_test_extracted = np.vstack(X_test_extracted)\n",
    "y_test_extracted = np.hstack(y_test_extracted)\n",
    "\n",
    "# Combine the remaining training set samples from all classes\n",
    "X_train_remaining = np.vstack(X_train_remaining)\n",
    "y_train_remaining = np.hstack(y_train_remaining)\n",
    "\n",
    "# Save the test set to a pickle file\n",
    "test_output_file = \"wdt-test.pickle\"\n",
    "with open(test_output_file, \"wb\") as f:\n",
    "    pickle.dump({'X': X_test_extracted, 'y': y_test_extracted}, f)\n",
    "print(f\"Test dataset saved to {test_output_file}\")\n",
    "\n",
    "# Save the training set to another pickle file\n",
    "train_output_file = \"wdt-train.pickle\"\n",
    "with open(train_output_file, \"wb\") as f:\n",
    "    pickle.dump({'X': X_train_remaining, 'y': y_train_remaining}, f)\n",
    "print(f\"Training dataset saved to {train_output_file}\")"
   ]
  },
  {
   "cell_type": "code",
   "execution_count": 5,
   "metadata": {},
   "outputs": [
    {
     "name": "stdout",
     "output_type": "stream",
     "text": [
      "Number of overlapping samples: 0\n",
      "No overlap between training and test sets.\n"
     ]
    }
   ],
   "source": [
    "# Check for overlap between training and test sets\n",
    "train_hashes = {hash(tuple(row)) for row in X_train_remaining}\n",
    "test_hashes = {hash(tuple(row)) for row in X_test_extracted}\n",
    "overlap = train_hashes & test_hashes\n",
    "print(f\"Number of overlapping samples: {len(overlap)}\")\n",
    "if len(overlap) > 0:\n",
    "    print(\"Data leakage detected! Overlapping samples exist between training and test sets.\")\n",
    "else:\n",
    "    print(\"No overlap between training and test sets.\")\n"
   ]
  },
  {
   "cell_type": "code",
   "execution_count": 52,
   "metadata": {},
   "outputs": [],
   "source": [
    "#Import packages\n",
    "\n",
    "import numpy as np\n",
    "from numpy.typing import NDArray\n",
    "import pickle\n",
    "import matplotlib.pyplot as plt\n",
    "from sklearn.linear_model import LogisticRegression\n",
    "from sklearn.model_selection import train_test_split\n",
    "from sklearn.metrics import accuracy_score\n",
    "import numpy as np\n",
    "from sklearn.ensemble import RandomForestClassifier\n",
    "from sklearn.metrics import accuracy_score\n",
    "from sklearn.utils import shuffle\n",
    "#Auxiliary functions\n",
    "\n",
    "def onehot2cat(y:NDArray) -> NDArray:\n",
    "    '''Convert y in one_hot to categorical'''\n",
    "    return np.argmax(y, axis=1) \n",
    "\n",
    "\n",
    "def loadDataset(fn:str, toCat:bool=False) -> NDArray:\n",
    "    '''load dataset'''\n",
    "    with open(fn, 'rb') as f:\n",
    "        data = pickle.load(f)\n",
    "        \n",
    "    X = data['X'] \n",
    "    if toCat: y = onehot2cat(data['Y'])\n",
    "    else:     y = data['Y'] \n",
    "    \n",
    "    return X, y\n",
    "\n",
    "\n",
    "def saveSKLModel(fn:str, model) -> None:\n",
    "    '''save SKLearn model as pickle'''\n",
    "    with open(fn, 'wb') as f:\n",
    "        pickle.dump(model, f)\n",
    "\n",
    "#load dataset\n",
    "\n",
    "fnt = 'wtdt-part.pickle'\n",
    "X, y = loadDataset(fnt, toCat=True)\n",
    "#X, y = shuffle(X, y, random_state=42)\n",
    "\n",
    "class_weights = {0: 1.0, 1: 1.0, 2: 1.0, 3: 1.0, 4: 1.0, 5: 1.0, 6: 1.0}\n",
    "model = RandomForestClassifier(class_weight=class_weights)\n",
    "model.fit(X,y)\n",
    "\n",
    "saveSKLModel(\"T1-randomForest.pickle\", model)\n"
   ]
  },
  {
   "cell_type": "code",
   "execution_count": 60,
   "metadata": {},
   "outputs": [
    {
     "name": "stdout",
     "output_type": "stream",
     "text": [
      "Overall Test Accuracy: 0.9994\n",
      "Accuracy for Fault Class 0: 1.0000\n",
      "Accuracy for Fault Class 1: 1.0000\n",
      "Accuracy for Fault Class 2: 1.0000\n",
      "Accuracy for Fault Class 3: 1.0000\n",
      "Accuracy for Fault Class 4: 0.9980\n",
      "Accuracy for Fault Class 5: 0.9980\n",
      "Accuracy for Fault Class 6: 1.0000\n"
     ]
    }
   ],
   "source": [
    "from sklearn.utils import shuffle\n",
    "from sklearn.metrics import accuracy_score\n",
    "\n",
    "# Number of samples to remove for testing per class\n",
    "n_test_samples_per_class = 500  # Adjust based on your dataset size and needs\n",
    "\n",
    "# Create test set and train set with even distribution across classes\n",
    "X_train_balanced, y_train_balanced = [], []\n",
    "X_test_balanced, y_test_balanced = [], []\n",
    "\n",
    "# Loop through each fault class and split data\n",
    "for fault_class in range(7):  # Assuming 7 fault classes\n",
    "    class_indices = np.where(y == fault_class)[0]  # Find indices of this class\n",
    "    class_X = X[class_indices]\n",
    "    class_y = y[class_indices]\n",
    "\n",
    "    # Shuffle the class-specific data\n",
    "    class_X, class_y = shuffle(class_X, class_y, random_state=42)\n",
    "\n",
    "    # Split into test and training subsets\n",
    "    X_test_balanced.append(class_X[:n_test_samples_per_class])\n",
    "    y_test_balanced.append(class_y[:n_test_samples_per_class])\n",
    "\n",
    "    X_train_balanced.append(class_X[n_test_samples_per_class:])\n",
    "    y_train_balanced.append(class_y[n_test_samples_per_class:])\n",
    "\n",
    "# Combine all classes\n",
    "X_train_balanced = np.vstack(X_train_balanced)\n",
    "y_train_balanced = np.hstack(y_train_balanced)\n",
    "\n",
    "X_test_balanced = np.vstack(X_test_balanced)\n",
    "y_test_balanced = np.hstack(y_test_balanced)\n",
    "\n",
    "# Shuffle the training and test sets\n",
    "X_train_balanced, y_train_balanced = shuffle(X_train_balanced, y_train_balanced, random_state=42)\n",
    "X_test_balanced, y_test_balanced = shuffle(X_test_balanced, y_test_balanced, random_state=42)\n",
    "\n",
    "# Train the model on the balanced training set\n",
    "model = RandomForestClassifier(class_weight='balanced', random_state=42)\n",
    "model.fit(X_train_balanced, y_train_balanced)\n",
    "\n",
    "# Predict on the balanced test set\n",
    "y_pred_balanced = model.predict(X_test_balanced)\n",
    "\n",
    "# Overall accuracy\n",
    "overall_accuracy = accuracy_score(y_test_balanced, y_pred_balanced)\n",
    "print(f\"Overall Test Accuracy: {overall_accuracy:.4f}\")\n",
    "\n",
    "# Accuracy for each fault class\n",
    "for fault_class in range(7):\n",
    "    class_indices = np.where(y_test_balanced == fault_class)[0]\n",
    "    y_class_true = y_test_balanced[class_indices]\n",
    "    y_class_pred = y_pred_balanced[class_indices]\n",
    "    class_accuracy = accuracy_score(y_class_true, y_class_pred)\n",
    "    print(f\"Accuracy for Fault Class {fault_class}: {class_accuracy:.4f}\")\n",
    "\n",
    "\n"
   ]
  },
  {
   "cell_type": "code",
   "execution_count": 59,
   "metadata": {},
   "outputs": [
    {
     "data": {
      "image/png": "[encoded data removed]",
      "text/plain": [
       "<Figure size 640x480 with 1 Axes>"
      ]
     },
     "metadata": {},
     "output_type": "display_data"
    }
   ],
   "source": [
    "import matplotlib.pyplot as plt\n",
    "\n",
    "# Compare feature 0 distributions for fault class 0\n",
    "plt.hist(X[y == 0, 0], bins=50, alpha=0.5, label='Local Fault Class 0')\n",
    "plt.title(\"Feature 0 Distribution - Local Data\")\n",
    "plt.xlabel(\"Feature Value\")\n",
    "plt.ylabel(\"Frequency\")\n",
    "plt.legend()\n",
    "plt.show()\n",
    "\n",
    "# Simulate the same plot for server data if possible\n",
    "# Replace `X_server` and `y_server` with server data arrays, if accessible\n",
    "# plt.hist(X_server[y_server == 0, 0], bins=50, alpha=0.5, label='Server Fault Class 0')\n",
    "# "
   ]
  },
  {
   "cell_type": "markdown",
   "metadata": {},
   "source": [
    "# Simulate the professor´s ordered data-set"
   ]
  },
  {
   "cell_type": "code",
   "execution_count": 23,
   "metadata": {},
   "outputs": [],
   "source": [
    "# Split data without shuffling\n",
    "n_classes = 7\n",
    "samples_per_class = 2000\n",
    "total_samples = samples_per_class * n_classes\n",
    "\n",
    "# Simulate a \"validation-like\" ordered test set\n",
    "X_ordered_test = X[::10, :]  # e.g., every 5th sample to create stratified ordering\n",
    "y_ordered_test = y[::10]\n",
    "\n",
    "# Remaining samples are for training\n",
    "X_ordered_train = np.delete(X, np.arange(0, total_samples, 5), axis=0)\n",
    "y_ordered_train = np.delete(y, np.arange(0, total_samples, 5), axis=0)\n"
   ]
  },
  {
   "cell_type": "markdown",
   "metadata": {},
   "source": [
    "#### I removed some data from my X and y and will keep it ordered in order to simulate the competition"
   ]
  },
  {
   "cell_type": "markdown",
   "metadata": {},
   "source": [
    "# Use Stratified K-Fold Validation"
   ]
  },
  {
   "cell_type": "code",
   "execution_count": 24,
   "metadata": {},
   "outputs": [
    {
     "name": "stdout",
     "output_type": "stream",
     "text": [
      "Stratified K-Fold Accuracies: [0.9977678571428571, 0.9995535714285714, 0.9995535714285714, 0.9986607142857142, 0.9991071428571429]\n",
      "Mean Accuracy: 0.9989285714285714\n"
     ]
    }
   ],
   "source": [
    "from sklearn.model_selection import StratifiedKFold\n",
    "from sklearn.metrics import accuracy_score\n",
    "\n",
    "skf = StratifiedKFold(n_splits=5)\n",
    "model = RandomForestClassifier()\n",
    "accuracies = []\n",
    "\n",
    "for train_index, test_index in skf.split(X_ordered_train, y_ordered_train):\n",
    "    X_train, X_test = X_ordered_train[train_index], X_ordered_train[test_index]\n",
    "    y_train, y_test = y_ordered_train[train_index], y_ordered_train[test_index]\n",
    "\n",
    "    model.fit(X_train, y_train)\n",
    "    y_pred = model.predict(X_test)\n",
    "    accuracies.append(accuracy_score(y_test, y_pred))\n",
    "\n",
    "print(f\"Stratified K-Fold Accuracies: {accuracies}\")\n",
    "print(f\"Mean Accuracy: {np.mean(accuracies)}\")\n"
   ]
  },
  {
   "cell_type": "markdown",
   "metadata": {},
   "source": [
    "# Perform real world-like validation"
   ]
  },
  {
   "cell_type": "code",
   "execution_count": 25,
   "metadata": {},
   "outputs": [
    {
     "ename": "ValueError",
     "evalue": "Found input variables with inconsistent numbers of samples: [1400, 2800]",
     "output_type": "error",
     "traceback": [
      "\u001b[1;31m---------------------------------------------------------------------------\u001b[0m",
      "\u001b[1;31mValueError\u001b[0m                                Traceback (most recent call last)",
      "Cell \u001b[1;32mIn[25], line 2\u001b[0m\n\u001b[0;32m      1\u001b[0m y_ordered_pred \u001b[38;5;241m=\u001b[39m model\u001b[38;5;241m.\u001b[39mpredict(X_ordered_test)\n\u001b[1;32m----> 2\u001b[0m sequential_accuracy \u001b[38;5;241m=\u001b[39m \u001b[43maccuracy_score\u001b[49m\u001b[43m(\u001b[49m\u001b[43my_ordered_test\u001b[49m\u001b[43m,\u001b[49m\u001b[43m \u001b[49m\u001b[43my_seq_pred\u001b[49m\u001b[43m)\u001b[49m\n\u001b[0;32m      3\u001b[0m \u001b[38;5;28mprint\u001b[39m(\u001b[38;5;124mf\u001b[39m\u001b[38;5;124m\"\u001b[39m\u001b[38;5;124mSequential Test Accuracy: \u001b[39m\u001b[38;5;132;01m{\u001b[39;00msequential_accuracy\u001b[38;5;132;01m}\u001b[39;00m\u001b[38;5;124m\"\u001b[39m)\n",
      "File \u001b[1;32mc:\\Users\\diogo\\Documents\\GitHub\\AM\\venv\\Lib\\site-packages\\sklearn\\utils\\_param_validation.py:213\u001b[0m, in \u001b[0;36mvalidate_params.<locals>.decorator.<locals>.wrapper\u001b[1;34m(*args, **kwargs)\u001b[0m\n\u001b[0;32m    207\u001b[0m \u001b[38;5;28;01mtry\u001b[39;00m:\n\u001b[0;32m    208\u001b[0m     \u001b[38;5;28;01mwith\u001b[39;00m config_context(\n\u001b[0;32m    209\u001b[0m         skip_parameter_validation\u001b[38;5;241m=\u001b[39m(\n\u001b[0;32m    210\u001b[0m             prefer_skip_nested_validation \u001b[38;5;129;01mor\u001b[39;00m global_skip_validation\n\u001b[0;32m    211\u001b[0m         )\n\u001b[0;32m    212\u001b[0m     ):\n\u001b[1;32m--> 213\u001b[0m         \u001b[38;5;28;01mreturn\u001b[39;00m \u001b[43mfunc\u001b[49m\u001b[43m(\u001b[49m\u001b[38;5;241;43m*\u001b[39;49m\u001b[43margs\u001b[49m\u001b[43m,\u001b[49m\u001b[43m \u001b[49m\u001b[38;5;241;43m*\u001b[39;49m\u001b[38;5;241;43m*\u001b[39;49m\u001b[43mkwargs\u001b[49m\u001b[43m)\u001b[49m\n\u001b[0;32m    214\u001b[0m \u001b[38;5;28;01mexcept\u001b[39;00m InvalidParameterError \u001b[38;5;28;01mas\u001b[39;00m e:\n\u001b[0;32m    215\u001b[0m     \u001b[38;5;66;03m# When the function is just a wrapper around an estimator, we allow\u001b[39;00m\n\u001b[0;32m    216\u001b[0m     \u001b[38;5;66;03m# the function to delegate validation to the estimator, but we replace\u001b[39;00m\n\u001b[0;32m    217\u001b[0m     \u001b[38;5;66;03m# the name of the estimator by the name of the function in the error\u001b[39;00m\n\u001b[0;32m    218\u001b[0m     \u001b[38;5;66;03m# message to avoid confusion.\u001b[39;00m\n\u001b[0;32m    219\u001b[0m     msg \u001b[38;5;241m=\u001b[39m re\u001b[38;5;241m.\u001b[39msub(\n\u001b[0;32m    220\u001b[0m         \u001b[38;5;124mr\u001b[39m\u001b[38;5;124m\"\u001b[39m\u001b[38;5;124mparameter of \u001b[39m\u001b[38;5;124m\\\u001b[39m\u001b[38;5;124mw+ must be\u001b[39m\u001b[38;5;124m\"\u001b[39m,\n\u001b[0;32m    221\u001b[0m         \u001b[38;5;124mf\u001b[39m\u001b[38;5;124m\"\u001b[39m\u001b[38;5;124mparameter of \u001b[39m\u001b[38;5;132;01m{\u001b[39;00mfunc\u001b[38;5;241m.\u001b[39m\u001b[38;5;18m__qualname__\u001b[39m\u001b[38;5;132;01m}\u001b[39;00m\u001b[38;5;124m must be\u001b[39m\u001b[38;5;124m\"\u001b[39m,\n\u001b[0;32m    222\u001b[0m         \u001b[38;5;28mstr\u001b[39m(e),\n\u001b[0;32m    223\u001b[0m     )\n",
      "File \u001b[1;32mc:\\Users\\diogo\\Documents\\GitHub\\AM\\venv\\Lib\\site-packages\\sklearn\\metrics\\_classification.py:231\u001b[0m, in \u001b[0;36maccuracy_score\u001b[1;34m(y_true, y_pred, normalize, sample_weight)\u001b[0m\n\u001b[0;32m    229\u001b[0m xp, _, device \u001b[38;5;241m=\u001b[39m get_namespace_and_device(y_true, y_pred, sample_weight)\n\u001b[0;32m    230\u001b[0m \u001b[38;5;66;03m# Compute accuracy for each possible representation\u001b[39;00m\n\u001b[1;32m--> 231\u001b[0m y_type, y_true, y_pred \u001b[38;5;241m=\u001b[39m \u001b[43m_check_targets\u001b[49m\u001b[43m(\u001b[49m\u001b[43my_true\u001b[49m\u001b[43m,\u001b[49m\u001b[43m \u001b[49m\u001b[43my_pred\u001b[49m\u001b[43m)\u001b[49m\n\u001b[0;32m    232\u001b[0m check_consistent_length(y_true, y_pred, sample_weight)\n\u001b[0;32m    233\u001b[0m \u001b[38;5;28;01mif\u001b[39;00m y_type\u001b[38;5;241m.\u001b[39mstartswith(\u001b[38;5;124m\"\u001b[39m\u001b[38;5;124mmultilabel\u001b[39m\u001b[38;5;124m\"\u001b[39m):\n",
      "File \u001b[1;32mc:\\Users\\diogo\\Documents\\GitHub\\AM\\venv\\Lib\\site-packages\\sklearn\\metrics\\_classification.py:103\u001b[0m, in \u001b[0;36m_check_targets\u001b[1;34m(y_true, y_pred)\u001b[0m\n\u001b[0;32m     76\u001b[0m \u001b[38;5;250m\u001b[39m\u001b[38;5;124;03m\"\"\"Check that y_true and y_pred belong to the same classification task.\u001b[39;00m\n\u001b[0;32m     77\u001b[0m \n\u001b[0;32m     78\u001b[0m \u001b[38;5;124;03mThis converts multiclass or binary types to a common shape, and raises a\u001b[39;00m\n\u001b[1;32m   (...)\u001b[0m\n\u001b[0;32m    100\u001b[0m \u001b[38;5;124;03my_pred : array or indicator matrix\u001b[39;00m\n\u001b[0;32m    101\u001b[0m \u001b[38;5;124;03m\"\"\"\u001b[39;00m\n\u001b[0;32m    102\u001b[0m xp, _ \u001b[38;5;241m=\u001b[39m get_namespace(y_true, y_pred)\n\u001b[1;32m--> 103\u001b[0m \u001b[43mcheck_consistent_length\u001b[49m\u001b[43m(\u001b[49m\u001b[43my_true\u001b[49m\u001b[43m,\u001b[49m\u001b[43m \u001b[49m\u001b[43my_pred\u001b[49m\u001b[43m)\u001b[49m\n\u001b[0;32m    104\u001b[0m type_true \u001b[38;5;241m=\u001b[39m type_of_target(y_true, input_name\u001b[38;5;241m=\u001b[39m\u001b[38;5;124m\"\u001b[39m\u001b[38;5;124my_true\u001b[39m\u001b[38;5;124m\"\u001b[39m)\n\u001b[0;32m    105\u001b[0m type_pred \u001b[38;5;241m=\u001b[39m type_of_target(y_pred, input_name\u001b[38;5;241m=\u001b[39m\u001b[38;5;124m\"\u001b[39m\u001b[38;5;124my_pred\u001b[39m\u001b[38;5;124m\"\u001b[39m)\n",
      "File \u001b[1;32mc:\\Users\\diogo\\Documents\\GitHub\\AM\\venv\\Lib\\site-packages\\sklearn\\utils\\validation.py:457\u001b[0m, in \u001b[0;36mcheck_consistent_length\u001b[1;34m(*arrays)\u001b[0m\n\u001b[0;32m    455\u001b[0m uniques \u001b[38;5;241m=\u001b[39m np\u001b[38;5;241m.\u001b[39munique(lengths)\n\u001b[0;32m    456\u001b[0m \u001b[38;5;28;01mif\u001b[39;00m \u001b[38;5;28mlen\u001b[39m(uniques) \u001b[38;5;241m>\u001b[39m \u001b[38;5;241m1\u001b[39m:\n\u001b[1;32m--> 457\u001b[0m     \u001b[38;5;28;01mraise\u001b[39;00m \u001b[38;5;167;01mValueError\u001b[39;00m(\n\u001b[0;32m    458\u001b[0m         \u001b[38;5;124m\"\u001b[39m\u001b[38;5;124mFound input variables with inconsistent numbers of samples: \u001b[39m\u001b[38;5;132;01m%r\u001b[39;00m\u001b[38;5;124m\"\u001b[39m\n\u001b[0;32m    459\u001b[0m         \u001b[38;5;241m%\u001b[39m [\u001b[38;5;28mint\u001b[39m(l) \u001b[38;5;28;01mfor\u001b[39;00m l \u001b[38;5;129;01min\u001b[39;00m lengths]\n\u001b[0;32m    460\u001b[0m     )\n",
      "\u001b[1;31mValueError\u001b[0m: Found input variables with inconsistent numbers of samples: [1400, 2800]"
     ]
    }
   ],
   "source": [
    "\n",
    "\n",
    "y_ordered_pred = model.predict(X_ordered_test)\n",
    "sequential_accuracy = accuracy_score(y_ordered_test, y_seq_pred)\n",
    "print(f\"Sequential Test Accuracy: {sequential_accuracy}\")\n"
   ]
  },
  {
   "cell_type": "markdown",
   "metadata": {},
   "source": [
    "# Analysis"
   ]
  },
  {
   "cell_type": "code",
   "execution_count": 21,
   "metadata": {},
   "outputs": [
    {
     "data": {
      "text/plain": [
       "<sklearn.metrics._plot.confusion_matrix.ConfusionMatrixDisplay at 0x206f7abf9b0>"
      ]
     },
     "execution_count": 21,
     "metadata": {},
     "output_type": "execute_result"
    },
    {
     "data": {
      "image/png": "[encoded data removed]",
      "text/plain": [
       "<Figure size 640x480 with 2 Axes>"
      ]
     },
     "metadata": {},
     "output_type": "display_data"
    }
   ],
   "source": [
    "from sklearn.metrics import confusion_matrix, ConfusionMatrixDisplay\n",
    "\n",
    "cm = confusion_matrix(y_ordered_test, y_ordered_pred)\n",
    "ConfusionMatrixDisplay(cm).plot()\n"
   ]
  },
  {
   "cell_type": "code",
   "execution_count": 41,
   "metadata": {},
   "outputs": [
    {
     "name": "stdout",
     "output_type": "stream",
     "text": [
      "Accuracy on fault class 1: 1.0000\n"
     ]
    }
   ],
   "source": [
    "start_index = 0\n",
    "end_index = 2000\n",
    "X_class_1 = X[start_index:end_index]\n",
    "y_class_1 = y[start_index:end_index]\n",
    "\n",
    "# Split into training and test sets (keeping only fault class 1)\n",
    "X_train_1, X_test_1, y_train_1, y_test_1 = train_test_split(X_class_1, y_class_1, test_size=0.2, random_state=42)\n",
    "\n",
    "# Train a model (e.g., Random Forest) on fault class 1\n",
    "model_class_1 = RandomForestClassifier(random_state=42)\n",
    "model_class_1.fit(X_train_1, y_train_1)\n",
    "\n",
    "# Evaluate the model on the test set for fault class 1\n",
    "y_test_1_pred = model_class_1.predict(X_test_1)\n",
    "accuracy_class_1 = accuracy_score(y_test_1, y_test_1_pred)\n",
    "\n",
    "print(f\"Accuracy on fault class 1: {accuracy_class_1:.4f}\")\n",
    "\n",
    "saveSKLModel(\"T1-randomForest.pickle\", model_class_1)\n"
   ]
  }
 ],
 "metadata": {
  "kernelspec": {
   "display_name": "venv",
   "language": "python",
   "name": "python3"
  },
  "language_info": {
   "codemirror_mode": {
    "name": "ipython",
    "version": 3
   },
   "file_extension": ".py",
   "mimetype": "text/x-python",
   "name": "python",
   "nbconvert_exporter": "python",
   "pygments_lexer": "ipython3",
   "version": "3.12.7"
  }
 },
 "nbformat": 4,
 "nbformat_minor": 2
}
