{
 "cells": [
  {
   "cell_type": "markdown",
   "id": "57033adf-df9c-44d6-987f-bc66afe44e70",
   "metadata": {},
   "source": [
    "### Lab 6: Empirical comparison of classifiers over WTDT dataset "
   ]
  },
  {
   "cell_type": "code",
   "execution_count": 1,
   "id": "aa982240-9d08-4b91-951c-709e90ed22a6",
   "metadata": {},
   "outputs": [],
   "source": [
    "#Import packages\n",
    "\n",
    "import numpy as np\n",
    "from numpy.typing import NDArray\n",
    "import pickle\n",
    "import matplotlib.pyplot as plt\n",
    "\n",
    "from sklearn.linear_model import LogisticRegression\n",
    "from sklearn.model_selection import train_test_split\n"
   ]
  },
  {
   "cell_type": "code",
   "execution_count": 2,
   "id": "96d1f3d9-2aea-4276-b38f-70412c2ecf87",
   "metadata": {},
   "outputs": [],
   "source": [
    "#Auxiliary functions\n",
    "\n",
    "def onehot2cat(y:NDArray) -> NDArray:\n",
    "    '''Convert y in one_hot to categorical'''\n",
    "    return np.argmax(y, axis=1) \n",
    "\n",
    "\n",
    "def loadDataset(fn:str, toCat:bool=False) -> NDArray:\n",
    "    '''load dataset'''\n",
    "    with open(fn, 'rb') as f:\n",
    "        data = pickle.load(f)\n",
    "        \n",
    "    X = data['X'] \n",
    "    if toCat: y = onehot2cat(data['Y'])\n",
    "    else:     y = data['Y'] \n",
    "    \n",
    "    return X, y\n",
    "\n",
    "\n",
    "def saveSKLModel(fn:str, model) -> None:\n",
    "    '''save SKLearn model as pickle'''\n",
    "    with open(fn, 'wb') as f:\n",
    "        pickle.dump(model, f)\n",
    "        "
   ]
  },
  {
   "cell_type": "code",
   "execution_count": 4,
   "id": "03dbc103-2519-4d6d-b228-5e106d6f0047",
   "metadata": {},
   "outputs": [
    {
     "name": "stdout",
     "output_type": "stream",
     "text": [
      "(14000, 787)\n",
      "(14000,)\n"
     ]
    }
   ],
   "source": [
    "#load dataset\n",
    "\n",
    "fnt = 'wtdt-part.pickle'\n",
    "X, y = loadDataset(fnt, toCat=True)\n",
    "print(X.shape)\n",
    "print(y.shape)"
   ]
  }
 ],
 "metadata": {
  "kernelspec": {
   "display_name": "Python 3 (ipykernel)",
   "language": "python",
   "name": "python3"
  },
  "language_info": {
   "codemirror_mode": {
    "name": "ipython",
    "version": 3
   },
   "file_extension": ".py",
   "mimetype": "text/x-python",
   "name": "python",
   "nbconvert_exporter": "python",
   "pygments_lexer": "ipython3",
   "version": "3.12.3"
  }
 },
 "nbformat": 4,
 "nbformat_minor": 5
}
