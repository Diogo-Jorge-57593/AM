{
 "cells": [
  {
   "cell_type": "code",
   "execution_count": 1,
   "metadata": {},
   "outputs": [
    {
     "name": "stdout",
     "output_type": "stream",
     "text": [
      "Perturbed dataset saved as: wdt-test-perturbed.pickle\n"
     ]
    }
   ],
   "source": [
    "import numpy as np\n",
    "import pickle\n",
    "\n",
    "# Carregar o data set de teste (400 entradas de cada classe)\n",
    "with open(\"wdt-test.pickle\", \"rb\") as f:\n",
    "    test_data = pickle.load(f)\n",
    "X_test = test_data['X']\n",
    "y_test = test_data['y']\n",
    "\n",
    "noise_level = 1.0 \n",
    "X_test_perturbed = X_test.copy()\n",
    "\n",
    "class_0_indices = np.where(y_test == 0)[0]\n",
    "\n",
    "overlap_indices = np.random.choice(\n",
    "    np.where(y_test != 0)[0], len(class_0_indices), replace=False\n",
    ")\n",
    "X_test_perturbed[class_0_indices] = (\n",
    "    X_test[overlap_indices] + np.random.normal(0, noise_level, X_test[overlap_indices].shape)\n",
    ")\n",
    "\n",
    "# Save the perturbed dataset\n",
    "perturbed_output_file = \"wdt-test-perturbed.pickle\"\n",
    "with open(perturbed_output_file, \"wb\") as f:\n",
    "    pickle.dump({'X': X_test_perturbed, 'y': y_test}, f)\n",
    "\n",
    "print(f\"Perturbed dataset saved as: {perturbed_output_file}\")\n"
   ]
  }
 ],
 "metadata": {
  "kernelspec": {
   "display_name": "venv",
   "language": "python",
   "name": "python3"
  },
  "language_info": {
   "codemirror_mode": {
    "name": "ipython",
    "version": 3
   },
   "file_extension": ".py",
   "mimetype": "text/x-python",
   "name": "python",
   "nbconvert_exporter": "python",
   "pygments_lexer": "ipython3",
   "version": "3.12.7"
  }
 },
 "nbformat": 4,
 "nbformat_minor": 2
}
